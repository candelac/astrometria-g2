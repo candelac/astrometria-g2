{
 "cells": [
  {
   "cell_type": "markdown",
   "metadata": {},
   "source": [
    "# Remuestreo Bootstrap"
   ]
  },
  {
   "cell_type": "markdown",
   "metadata": {},
   "source": [
    "Entre los métodos inferenciales que permiten cuantificar el grado de confianza que se puede tener de un estadı́sitico, y saber cuán acertados son los resultados sobre los parámetros de la población, se encuentran las técnias de remuestreo.\n",
    "\n",
    "Estas técnicas tienen la ventaja de que no necesitan datos distribuidos normalmente, muestras muy grandes y fórmulas complicadas. Además permiten obtener resultados muchas veces más exactos que otros métodos.\n",
    "\n",
    "\n",
    "El bootstrap es un mecanismo que se centra en el remuestreo de datos dentro de una muestra aleatoria, diseñado para aproximar la precisión de un estimador.\n",
    "\n",
    "\n",
    "El método se basa en: dada una muestra aleatoria con 'n' observaciones, se construyen con ella 'B' \"muestras Bootstrap\" del mismo tamaño con reposición (es decir los valores se pueden repeitir).\n",
    "Para cada una de las B nuevas muestras, se realiza una estimación del parámetro de interés $\\theta$.\n",
    "Luego, se usan los B valores bootstrap estimados para aproximar la distribución del estimador del parámetro.\n",
    "Esta distribución se utiliza para hacer más inferencias estadísticas, como la estimación del error estándar de $\\theta$ o un intervalo de confianza para el mismo.\n"
   ]
  },
  {
   "cell_type": "markdown",
   "metadata": {},
   "source": [
    "EL intervalo de confianza que se calcula a partir de los datos de la muestra, es un intervalo en donde se estima que estará cierto valor desconocido, como el parámtero poblacional, con un determinado nivel de confianza.Se denomina nivel de significancia a $\\alpha$ y representa la probabilidad de que el intervalo contenga el parámetro poblacional."
   ]
  },
  {
   "cell_type": "markdown",
   "metadata": {},
   "source": [
    "\n"
   ]
  },
  {
   "cell_type": "markdown",
   "metadata": {},
   "source": [
    "En este ejercicio se quiere diseñar una función que por medio del método de boostrap resampling estime la varianza de una V.A. a partir de una muestra de datos. Se toma como 'muestra' a las magnitudes de estrellas pertenecientes a cúmulos globulares los cuales se encuentran en la columna número 6 (contando desde cero) del archivo 'cumulos_globulares.dat'.\n",
    "\n",
    "Primero para estimar la varianza, se calcula la varianza muestral.\n"
   ]
  },
  {
   "cell_type": "code",
   "execution_count": 1,
   "metadata": {},
   "outputs": [],
   "source": [
    "from math import *\n",
    "import numpy as np\n",
    "import matplotlib.pyplot as plt\n",
    "import random\n",
    "import seaborn as sns"
   ]
  },
  {
   "cell_type": "code",
   "execution_count": 2,
   "metadata": {},
   "outputs": [],
   "source": [
    "sns.set()"
   ]
  },
  {
   "cell_type": "code",
   "execution_count": 3,
   "metadata": {},
   "outputs": [
    {
     "name": "stdout",
     "output_type": "stream",
     "text": [
      "Varianza muestral: 2.225189740761169\n"
     ]
    }
   ],
   "source": [
    "muestra = np.genfromtxt('cumulos_globulares.dat', usecols=6) #se carga el archivo\n",
    "muestra = muestra[~np.isnan(muestra)]   #tiene NaNs, así que usa solo los numéricos.\n",
    "n=len(muestra)  #defino n como el tamaño de la muestra\n",
    "\n",
    "xm= sum(muestra)/n               #Calculo la media muestral\n",
    "s2= sum((muestra-xm)**2)/(n-1)   #Calculo varianza muestral\n",
    "print('Varianza muestral:', s2)"
   ]
  },
  {
   "cell_type": "markdown",
   "metadata": {},
   "source": [
    "\n"
   ]
  },
  {
   "cell_type": "markdown",
   "metadata": {},
   "source": [
    "A continuación, se realizan remuestreos para aplicar el método de bootstrap y calcular el intervalo de confianza.\n",
    "\n",
    "Se define la función 'boot' que realiza realiza 'B' muestras nuevas aleatorias del mismo tamaño que la original utilizando la función 'np.random.choice'. Para cada muestra se calcula la varianza muestral y se guardan en una lista.\n",
    " \n",
    "Abajo se grafica la distribución obtenida para la varianza para verla visualmente."
   ]
  },
  {
   "cell_type": "code",
   "execution_count": 4,
   "metadata": {},
   "outputs": [
    {
     "data": {
      "image/png": "[encoded data removed]",
      "text/plain": [
       "<Figure size 432x288 with 1 Axes>"
      ]
     },
     "metadata": {},
     "output_type": "display_data"
    }
   ],
   "source": [
    "def boot(muestra, n, B=1000):  #defino función con B=cantidad de muestras bootstraps\n",
    "    var_mues=[]\n",
    "    for i in range(B):\n",
    "        muestra_nueva=np.random.choice(muestra, size=n) #genera una muestra aleatoria a partir de un array de tamaño n\n",
    "        xm= sum(muestra_nueva)/n               #calculo media muestral\n",
    "        s2= sum((muestra_nueva-xm)**2)/(n-1)   #calculo varianza muestral\n",
    "        var_mues.append(s2)        \n",
    "    return var_mues\n",
    "\n",
    "#Grafico el histograma de las varianzas calculadas\n",
    "var = boot(muestra, n) # varianzas muestrales de las distintas muestras\n",
    "plt.hist(var, color='gold')\n",
    "plt.title('Distribución muestral de la varianza')\n",
    "plt.xlabel('$S^2$')\n",
    "plt.ylabel('Frecuencia absoluta')\n",
    "plt.show()"
   ]
  },
  {
   "cell_type": "markdown",
   "metadata": {},
   "source": [
    "A continuación, se quiere calcular los intervalos de confidencia del estimador de la varianza con un nivel de significancia $\\alpha$ dado. El intervalo de confianza va a estar definido entre los valores $(q_1, q_2)$, tal que el área bajo la curva de la distribución encerrada entre ellos es igual a $\\alpha$.\n",
    "\n",
    "Como en el histograma formado para la varianza se ve que la distribución que se forma es simétrica, se pide que el intervalo de confianza sea simétrico. Por lo tanto, las colas de la distribución (es decir $S^2<q_1$ y $S^2>q_2$), van a tener un área bajo la curva de valor $\\frac{1-\\alpha}{2}$ cada una.\n",
    "Luego, se buscan los valores de $q_1$ y $q_2$ que cumplan con lo siguiente:\n",
    "\n",
    "$$\\frac{N(S^2<q_1)}{B}=\\frac{1-\\alpha}{2}$$\n",
    "\n",
    "$$\\frac{N(S^2>q_2)}{B}=\\frac{1-\\alpha}{2}$$\n",
    "\n",
    "donde N() indica el número de valores de $S^2$ que cumplen esa codición."
   ]
  },
  {
   "cell_type": "markdown",
   "metadata": {},
   "source": [
    "Programa para calcular q1:"
   ]
  },
  {
   "cell_type": "code",
   "execution_count": 5,
   "metadata": {},
   "outputs": [],
   "source": [
    "def IC_q1(var, a):   #a es alpha \n",
    "    var.sort()       #ordeno los valores de menor a mayor\n",
    "    suma=0\n",
    "    y=(1-a)/2        #condición que quiero que se cumpla\n",
    "    for i in range(len(var)):\n",
    "        x=var[i]     #defino como x el elemento i de la varianza\n",
    "        suma=suma+x  #los sumo\n",
    "        t=suma/(len(var))  #divido por la cantidad de muestras\n",
    "        if t<= y:\n",
    "            None\n",
    "        else:\n",
    "            q1=x\n",
    "            break\n",
    "    return q1"
   ]
  },
  {
   "cell_type": "markdown",
   "metadata": {},
   "source": [
    "Programa para calcular q2:"
   ]
  },
  {
   "cell_type": "code",
   "execution_count": 6,
   "metadata": {},
   "outputs": [],
   "source": [
    "def IC_q2(var, a): \n",
    "    var.sort(reverse=True) #ordeno los valores de mayor a menor\n",
    "    suma=0\n",
    "    y=(1-a)/2    \n",
    "    for i in range(len(var)):\n",
    "        x=var[i]     \n",
    "        suma=suma+x  \n",
    "        t=suma/(len(var))  \n",
    "        if t<= y:\n",
    "            None\n",
    "        else:\n",
    "            q2=x\n",
    "            break\n",
    "    return q2"
   ]
  },
  {
   "cell_type": "markdown",
   "metadata": {},
   "source": [
    "\n"
   ]
  },
  {
   "cell_type": "markdown",
   "metadata": {},
   "source": [
    "Como ejemplo, se toma el valor de $\\alpha$=0.95 y 0.9 para computar el valor final obtenido para la varianza con su intervalo de confianza."
   ]
  },
  {
   "cell_type": "code",
   "execution_count": 7,
   "metadata": {},
   "outputs": [
    {
     "name": "stdout",
     "output_type": "stream",
     "text": [
      "Valor de q1= 1.5683505561684126\n",
      "Valor de q2= 2.981743348961207\n",
      "El valor que se obtiene para la varianza es  2.225189740761169 con un intervalo de confianza de ( 1.5683505561684126 , 2.981743348961207 ).\n"
     ]
    }
   ],
   "source": [
    "q1=IC_q1(var, a=0.95)\n",
    "print('Valor de q1=', q1)\n",
    "\n",
    "q2=IC_q2(var, a=0.95)\n",
    "print('Valor de q2=', q2)\n",
    "\n",
    "print('El valor que se obtiene para la varianza es ', s2, 'con un intervalo de confianza de (', q1, ',', q2,').')"
   ]
  },
  {
   "cell_type": "code",
   "execution_count": 8,
   "metadata": {},
   "outputs": [
    {
     "name": "stdout",
     "output_type": "stream",
     "text": [
      "Valor de q1= 1.6623962998712989\n",
      "Valor de q2= 2.938861900165473\n",
      "El valor que se obtiene para la varianza es  2.225189740761169 con un intervalo de confianza de ( 1.6623962998712989 , 2.938861900165473 ).\n"
     ]
    }
   ],
   "source": [
    "q1=IC_q1(var, a=0.9)\n",
    "print('Valor de q1=', q1)\n",
    "\n",
    "q2=IC_q2(var, a=0.9)\n",
    "print('Valor de q2=', q2)\n",
    "\n",
    "print('El valor que se obtiene para la varianza es ', s2, 'con un intervalo de confianza de (', q1, ',', q2,').')"
   ]
  },
  {
   "cell_type": "markdown",
   "metadata": {},
   "source": [
    "\n"
   ]
  },
  {
   "cell_type": "markdown",
   "metadata": {},
   "source": [
    "\n"
   ]
  },
  {
   "cell_type": "markdown",
   "metadata": {},
   "source": [
    "## Conclusiones\n",
    "\n",
    "Por medio del método de remuestreo bootstrap se puede conocer la varianza de una variable aleatoria y una estimación de su incerteza de la cual no se tiene conocimiento sobre su distribución. Además se puede calcular un intervalo de confianza para un determinado valor de $\\alpha$ mediante el calculo de los límites inferiores y superiores del intervalo.\n",
    "\n",
    "Se puede ver que la distribución de la varianza tiene forma de campana centrada en el valor estimado de la varianza muestral, por lo que el intervalo de confianza es simétrico.\n",
    "\n",
    "También se ve, con los últimos ejemplos que si el valor de $\\alpha$ decrece, el IC también.\n"
   ]
  }
 ],
 "metadata": {
  "kernelspec": {
   "display_name": "Python 3",
   "language": "python",
   "name": "python3"
  },
  "language_info": {
   "codemirror_mode": {
    "name": "ipython",
    "version": 3
   },
   "file_extension": ".py",
   "mimetype": "text/x-python",
   "name": "python",
   "nbconvert_exporter": "python",
   "pygments_lexer": "ipython3",
   "version": "3.8.3"
  }
 },
 "nbformat": 4,
 "nbformat_minor": 4
}
