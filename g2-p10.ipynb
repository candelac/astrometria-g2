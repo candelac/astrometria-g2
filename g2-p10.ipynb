{
 "cells": [
  {
   "cell_type": "markdown",
   "metadata": {},
   "source": [
    "# Test de chi-cuadrado"
   ]
  },
  {
   "cell_type": "markdown",
   "metadata": {},
   "source": [
    "El método Chi-cuadrado, es considerado como una prueba no paramétrica que mide la discrepancia entre una distribución observada y otra teórica, indicando en qué medida existen diferencias entre ambas, por medio de una prueba de hipótesis PH."
   ]
  },
  {
   "cell_type": "markdown",
   "metadata": {},
   "source": [
    "El método de prueba de hipótesis supone a priori el valor de un parámetro y sobre la base de la información obtenida en una muestra, somete a prueba la suposición, para luego tomar con cierta probabilidad, la decisión de rechazar o no la hipótesis.\n",
    "\n",
    "La prueba de hipótesis PH es un procedimiento que le proporciona al investigador un criterio objetivo para tomar decisiones con base a un número limitado de observaciones."
   ]
  },
  {
   "cell_type": "markdown",
   "metadata": {},
   "source": [
    "\n"
   ]
  },
  {
   "cell_type": "markdown",
   "metadata": {},
   "source": [
    "En este ejercicio se busca diseñar, implementar y verificar una función que calcule el test de “chi-cuadrado” para comparar un histograma con un modelo dado por una distribución Binomial, $B(n=10, p=0.4)$.\n",
    "\n",
    "Se realizan los siguientes puntos:\n"
   ]
  },
  {
   "cell_type": "markdown",
   "metadata": {},
   "source": [
    "\n"
   ]
  },
  {
   "cell_type": "markdown",
   "metadata": {},
   "source": [
    "## (a) Simule 100 observaciones de la V.A. binomial y calcule las frecuencias de cada valor."
   ]
  },
  {
   "cell_type": "code",
   "execution_count": 1,
   "metadata": {},
   "outputs": [],
   "source": [
    "from scipy import stats as st\n",
    "#from math import *\n",
    "import numpy as np\n",
    "import matplotlib.pyplot as plt\n",
    "#import random\n",
    "import seaborn as sns"
   ]
  },
  {
   "cell_type": "code",
   "execution_count": 2,
   "metadata": {},
   "outputs": [],
   "source": [
    "sns.set()"
   ]
  },
  {
   "cell_type": "markdown",
   "metadata": {},
   "source": [
    "Se sortea 100 veces una variable aleatoria binomial con la función de 'st.binom.rvs', definiendo la función 'empirica_bi()'."
   ]
  },
  {
   "cell_type": "code",
   "execution_count": 3,
   "metadata": {},
   "outputs": [],
   "source": [
    "def empirica_bi():\n",
    "    lista=[]\n",
    "    for i in range(100):        #veces que sorteo la variable\n",
    "        x=st.binom.rvs(10, 0.4) #da variables aleatorias siguiendo la distribucion binomial\n",
    "        lista.append(x)         #las agrego en una lista\n",
    "    return lista "
   ]
  },
  {
   "cell_type": "markdown",
   "metadata": {},
   "source": [
    "Se grafican en un histograma para ver su distribución"
   ]
  },
  {
   "cell_type": "code",
   "execution_count": 4,
   "metadata": {},
   "outputs": [
    {
     "data": {
      "image/png": "[encoded data removed]",
      "text/plain": [
       "<Figure size 432x288 with 1 Axes>"
      ]
     },
     "metadata": {},
     "output_type": "display_data"
    }
   ],
   "source": [
    "f=plt.hist(empirica_bi(), bins=np.arange(-0.5, 11.5, 1), color='brown')\n",
    "\n",
    "plt.title('Histograma de 100 V.A. Binomial')\n",
    "plt.xlabel('x')\n",
    "plt.ylabel('Frecuencia')\n",
    "plt.show()"
   ]
  },
  {
   "cell_type": "code",
   "execution_count": 5,
   "metadata": {},
   "outputs": [
    {
     "name": "stdout",
     "output_type": "stream",
     "text": [
      "Las frecuencias empíricas de cada x son: [ 1.  4.  7. 22. 24. 26. 14.  2.  0.  0.  0.]\n"
     ]
    }
   ],
   "source": [
    "#Frecuencias\n",
    "fi_bi=f[0]\n",
    "print('Las frecuencias empíricas de cada x son:', fi_bi)"
   ]
  },
  {
   "cell_type": "markdown",
   "metadata": {},
   "source": [
    "\n"
   ]
  },
  {
   "cell_type": "markdown",
   "metadata": {},
   "source": [
    "## (b) Calcule el estadı́stico $\\chi^2$ a partir del modelo y de los datos simulados."
   ]
  },
  {
   "cell_type": "markdown",
   "metadata": {},
   "source": [
    "Primero se construye la distribución de probabilidad binomial teórica usando la función 'st.binom.pmf'."
   ]
  },
  {
   "cell_type": "code",
   "execution_count": 6,
   "metadata": {},
   "outputs": [],
   "source": [
    "teo_bi_rel=st.binom.pmf(k=np.arange(11), n=10, p=0.4)  #frecuencias teóricas relativas"
   ]
  },
  {
   "cell_type": "markdown",
   "metadata": {},
   "source": [
    "Como se quiere comparar con la distribución empírica calculada en (a), se deben covertir las frecuencias teóricas relativas a absolutas, para ello se multiplican las frecuencias obtenidas por 100 (número de V.A.)"
   ]
  },
  {
   "cell_type": "code",
   "execution_count": 7,
   "metadata": {},
   "outputs": [],
   "source": [
    "teo_bi=teo_bi_rel*100"
   ]
  },
  {
   "cell_type": "markdown",
   "metadata": {},
   "source": [
    "Debajo se grafica esta distribución junto con la distribución empírica construída en el inciso (a)."
   ]
  },
  {
   "cell_type": "code",
   "execution_count": 8,
   "metadata": {},
   "outputs": [
    {
     "data": {
      "image/png": "[encoded data removed]",
      "text/plain": [
       "<Figure size 432x288 with 1 Axes>"
      ]
     },
     "metadata": {},
     "output_type": "display_data"
    }
   ],
   "source": [
    "#Teorica\n",
    "plt.bar(np.arange(11), teo_bi, color='blue', alpha=0.8, label='Dist. teórica')\n",
    "\n",
    "#Empirica\n",
    "plt.hist(empirica_bi(), bins=np.arange(-0.5, 11.5, 1), color='brown', label='Dist empírica', alpha=0.4, ec='black', rwidth=0.8)\n",
    "\n",
    "plt.xlabel('x')\n",
    "plt.ylabel('Frecuencia')\n",
    "plt.legend(loc='upper right')\n",
    "plt.show()"
   ]
  },
  {
   "cell_type": "markdown",
   "metadata": {},
   "source": [
    "\n"
   ]
  },
  {
   "cell_type": "markdown",
   "metadata": {},
   "source": [
    "### Estadístico chi-cuadrado:\n",
    "\n",
    "$$\\chi^2=\\sum_{i=0}^{n} \\frac{(f_i - fteo_i)^2}{fteo_i}$$\n",
    "\n",
    "donde $f_i$ indica la frecuencia empírica observada (calculada en el inciso a) y $fteo_i$ indica la frecuencia de la distribución teórica.\n",
    "\n",
    "Para calcularlo se define la función 'chi2()' que compara las frecuencias de una lista (f) con las frecuencias teóricas absolutas de una función que se ingrese. "
   ]
  },
  {
   "cell_type": "code",
   "execution_count": 9,
   "metadata": {},
   "outputs": [
    {
     "name": "stdout",
     "output_type": "stream",
     "text": [
      "Chi-cuadrado: 7.365035371180048\n"
     ]
    }
   ],
   "source": [
    "chi2=0\n",
    "for i in range(len(fi_bi)):\n",
    "    chi2=chi2+((fi_bi[i]-teo_bi[i])**2/teo_bi[i])\n",
    "print('Chi-cuadrado:',chi2)"
   ]
  },
  {
   "cell_type": "markdown",
   "metadata": {},
   "source": [
    "\n"
   ]
  },
  {
   "cell_type": "markdown",
   "metadata": {},
   "source": [
    "## (c) Realice una prueba de hipótesis completa para decidir si los datos están en acuerdo con el modelo."
   ]
  },
  {
   "cell_type": "markdown",
   "metadata": {},
   "source": [
    "1. Hipótesis\n",
    "\n",
    "*Hipótesis nula:* \n",
    "$H_0$= La muestra de la distribución empírica sigue la distribución Binomial (teórica)\n",
    "\n",
    "*Hipótesis alternativa:*\n",
    "$H_1$= La muestra de la distribución empírica no sigue la distribución Binomial (teórica)"
   ]
  },
  {
   "cell_type": "markdown",
   "metadata": {},
   "source": [
    "2. Nivel de significación\n",
    "\n",
    "El establecimiento del lı́mite de significación define dos zonas en la distribución de valores del estadı́stico: a) una zona de aceptación de $H_0$, dentro de la cual las diferencias entre el estadı́stico y el parámetro no son significativas, y b) una zona de rechazo de $H_0$ dentro de la cual las diferencias entre el estadı́stico y el\n",
    "parámetro son significativas.\n",
    "\n",
    "Se decide tomar:\n",
    "\n",
    "$$\\alpha=0.05$$\n",
    "\n",
    "para obtener un IC del $95 \\%$"
   ]
  },
  {
   "cell_type": "markdown",
   "metadata": {},
   "source": [
    "3. Estadı́stico de prueba\n",
    "\n",
    "Se elije el estadístico chi-cuadrado, cuya fórmula y calculo se realizó en el inciso (b)."
   ]
  },
  {
   "cell_type": "markdown",
   "metadata": {},
   "source": [
    "4. Zona de aceptación\n",
    "\n",
    "La zona de aceptación de $H_0$ está formada por los valores del estadı́stico de prueba que ocurren con una probabilidad mayor a la establecida en el nivel de significación. Por el contrario, la zona de rechazo está formada por todos los valores del estadı́stico de prueba cuya probabilidad de ocurrencia es igual o menor al valor establecido en el nivel de significación. \n",
    "\n",
    "Así se tiene:\n",
    "\n",
    "Zona de aceptación: $\\chi^2 < \\chi_{(1-\\alpha);gl}^2$\n",
    "\n",
    "Zona de rechazo: $\\chi^2 > \\chi_{(1-\\alpha);gl}^2$\n",
    "\n",
    "donde $\\alpha$ es el nivel de significación y $gl$ los grados de libertad."
   ]
  },
  {
   "cell_type": "markdown",
   "metadata": {},
   "source": [
    "5. Cómputos necesarios\n"
   ]
  },
  {
   "cell_type": "code",
   "execution_count": 10,
   "metadata": {},
   "outputs": [
    {
     "name": "stdout",
     "output_type": "stream",
     "text": [
      "Valor de chi-cuadrado: 7.365035371180048\n"
     ]
    }
   ],
   "source": [
    "print('Valor de chi-cuadrado:', chi2)"
   ]
  },
  {
   "cell_type": "markdown",
   "metadata": {},
   "source": [
    "Grados de libertad:\n",
    "\n",
    "$$gl= Num\\ de\\ variables (x) - Num\\ de\\ restricciones$$\n",
    "\n",
    "donde número de x es: 0,1,2...10 =11 y el número de restricciones es 1 (suma de probabilidades igual a 1). Luego:\n",
    "\n",
    "$$gl=10$$"
   ]
  },
  {
   "cell_type": "markdown",
   "metadata": {},
   "source": [
    "Además:\n",
    "\n",
    "$$1-\\alpha = 0.95$$\n",
    "\n"
   ]
  },
  {
   "cell_type": "markdown",
   "metadata": {},
   "source": [
    "Buscando en las tablas de probabilidad acumulada de la distribución de probabilidad de $\\chi^2$, para gl=10 y $\\alpha=0.05$, se encuentra que el valor crítico para chi-cuadrado es:\n",
    "\n",
    "$$\\chi_{(1-\\alpha);gl}^2 = \\chi_{crit}^2 = 18.31$$"
   ]
  },
  {
   "cell_type": "markdown",
   "metadata": {},
   "source": [
    "6. Decisión\n",
    "\n",
    "Como el valor de $\\chi^2$ obtenido es menor a 18.31, el estadístico de prueba cae en la zona de aceptación, por lo que se acepta la hipótesis nula.\n",
    "No existe suficiente evidencia para rechazarla."
   ]
  },
  {
   "cell_type": "markdown",
   "metadata": {},
   "source": [
    "7. Conclusión\n",
    "\n",
    "Se concluye que la distribución empírica formada con 100 VA binomiales sigue la distribución Binomial teórica."
   ]
  },
  {
   "cell_type": "markdown",
   "metadata": {},
   "source": [
    "\n"
   ]
  },
  {
   "cell_type": "markdown",
   "metadata": {},
   "source": [
    "## (d) Calcule el valor-p de la prueba."
   ]
  },
  {
   "cell_type": "markdown",
   "metadata": {},
   "source": [
    "El valor-p se puede calcular de la siguiente forma:\n",
    "\n",
    "$$pvalue=P(\\chi^2>\\chi_0^2 | H_0)=1-P(\\chi^2<\\chi_0^2)= 1- F(\\chi_0^2)$$\n",
    "\n",
    "donde $\\chi^2$ la variable aleatoria estadístico chi-cuadrado y $\\chi_0^2$ el valor calculado, P la función probabilidad de la distribución del estadístico de prueba y F la función acumulada."
   ]
  },
  {
   "cell_type": "markdown",
   "metadata": {},
   "source": [
    "Para calcular la función acumulada de la distribución de $\\chi^2$ se usa la función 'st.chi2.cdf' la cual recibe como primer argumento el valor de $\\chi_0^2$ y como segundo los grados de libertad."
   ]
  },
  {
   "cell_type": "code",
   "execution_count": 11,
   "metadata": {},
   "outputs": [],
   "source": [
    "#Hago un funcion que calcule el valor de p\n",
    "def pvalue(chi,gl):\n",
    "    acum=st.chi2.cdf(chi, gl) #acumulada\n",
    "    p=1-acum #valor de p\n",
    "    return p"
   ]
  },
  {
   "cell_type": "code",
   "execution_count": 12,
   "metadata": {},
   "outputs": [
    {
     "name": "stdout",
     "output_type": "stream",
     "text": [
      "El valor-p de la prueba es: 0.6905921666571411\n"
     ]
    }
   ],
   "source": [
    "print('El valor-p de la prueba es:', pvalue(chi2,10))"
   ]
  },
  {
   "cell_type": "markdown",
   "metadata": {},
   "source": [
    "Se puede ver que el valor-p obtenido es mayor al nivel de significación 0.05, lo cual no permite rechazar la hipótesis alternativa, coincidiendo con lo que se vio en el inciso (c)."
   ]
  },
  {
   "cell_type": "markdown",
   "metadata": {},
   "source": [
    "\n"
   ]
  },
  {
   "cell_type": "markdown",
   "metadata": {},
   "source": [
    "## (e) Simule muestras de 100 observaciones de una V.A. N($\\mu$, $\\sigma$), con $\\sigma$=2.5 y $\\mu$ que varı́e entre 2 y 7. Estudie cómo varı́a el valor-p y determine si en algún rango de $\\mu$ se puede “confundir” el modelo.\n"
   ]
  },
  {
   "cell_type": "markdown",
   "metadata": {},
   "source": [
    "Se comienza definiendo una función que genere muestras de 100 variables aleatorias normales con $\\sigma=2.5$ y $\\mu$ como parámetro libre al cual se le pueda indicar cualquier valor."
   ]
  },
  {
   "cell_type": "code",
   "execution_count": 13,
   "metadata": {},
   "outputs": [],
   "source": [
    "def empirica_normal(u):\n",
    "    lista=[]\n",
    "    for i in range(100):      #veces que sorteo la variable\n",
    "        x=st.norm.rvs(loc=u, scale=2.5) #con 2.5 indico el sigma\n",
    "        lista.append(x)       #las agrego en una lista\n",
    "    return lista"
   ]
  },
  {
   "cell_type": "markdown",
   "metadata": {},
   "source": [
    "Para comparar se consideran los valores de $\\mu$ discretos entre 2 y 7. A continuación se grafican junto con la distribución teórica binomial en el mismo grafico ya que es con la que se quiere comparar. Se tiene en cuenta de realizarlo con el mismo bineado que la binomial.\n",
    "Para ello se define la binomial en ese intervalo."
   ]
  },
  {
   "cell_type": "code",
   "execution_count": 14,
   "metadata": {},
   "outputs": [],
   "source": [
    "teo_bi_rel2=st.binom.pmf(k=np.arange(-4,15,1), n=10, p=0.4) #relativa"
   ]
  },
  {
   "cell_type": "code",
   "execution_count": 15,
   "metadata": {},
   "outputs": [],
   "source": [
    "teo_bi2=teo_bi_rel2*100"
   ]
  },
  {
   "cell_type": "code",
   "execution_count": 16,
   "metadata": {},
   "outputs": [
    {
     "data": {
      "image/png": "[encoded data removed]",
      "text/plain": [
       "<Figure size 1224x504 with 6 Axes>"
      ]
     },
     "metadata": {},
     "output_type": "display_data"
    }
   ],
   "source": [
    "frec_norm=[]\n",
    "plt.figure(figsize=(17,7))\n",
    "\n",
    "for i in [1,2,3,4,5,6]:  #posición en el gráfico\n",
    "    plt.subplot(2,3,i)   #figura con 2 filas y 3 columnas\n",
    "    \n",
    "    #Grafico la binomial teorica\n",
    "    plt.bar(np.arange(-4,15,1), teo_bi2, width=1, color='blue', alpha=0.5, label='Binomial')\n",
    "    \n",
    "    #Grafico las distintas normales, quiero mu=2,3,4,5,6,7\n",
    "    h=plt.hist(empirica_normal(i+1), bins=np.arange(-4.5, 15.5, 1), histtype='step', ec='red', label='Normal: $\\mu$ = '+ str(i+1))\n",
    "    plt.legend(loc='best')\n",
    "    frec_norm.append(h) #agrego las frecuencias a una lista\n",
    "    "
   ]
  },
  {
   "cell_type": "markdown",
   "metadata": {},
   "source": [
    "Se calcula los $\\chi^2$ para cada $\\mu$ usando la función \"chi2(f)\" donde f es una lista con las frecuencias de la distribución a comparar, las cuales se encuentran guardadas en la lista 'frec_norm'. Se realiza para cada distribución normal aleatoria graficada."
   ]
  },
  {
   "cell_type": "markdown",
   "metadata": {},
   "source": [
    "Nota: se tomó el bineado igual a los de la distribución binomial. Al calcular el estadístico $\\chi^2$ se ingresa la frecuencia teórica binomial en el denominador, si se consideran valores de 'x' tal que $x<0$ o $x>10$ están fuera del dominio por lo que tienen frecuencias nulas, en el código se tiene cuidado de indicar esto."
   ]
  },
  {
   "cell_type": "code",
   "execution_count": 17,
   "metadata": {},
   "outputs": [],
   "source": [
    "#funcion que calcula chi-cuadrado \n",
    "def chi_square(f,teo):\n",
    "    chi2=0\n",
    "    for i in range(len(f)):\n",
    "        if teo[i] != 0:\n",
    "            chi2=chi2+((f[i]-teo[i])**2/teo[i])\n",
    "        else:\n",
    "            continue\n",
    "    return chi2"
   ]
  },
  {
   "cell_type": "code",
   "execution_count": 18,
   "metadata": {},
   "outputs": [
    {
     "data": {
      "text/plain": [
       "array([ 4.,  1.,  2.,  7., 15., 17., 11.,  8., 14., 12.,  6.,  1.,  1.,\n",
       "        0.,  0.,  0.,  0.,  1.,  0.])"
      ]
     },
     "execution_count": 18,
     "metadata": {},
     "output_type": "execute_result"
    }
   ],
   "source": [
    "#ejemplo: frecuencias para el caso con u=2\n",
    "frec_norm[0][0] "
   ]
  },
  {
   "cell_type": "markdown",
   "metadata": {},
   "source": [
    "Valores de chi-cuadrado comparando cada normal con la disstribución binomial:"
   ]
  },
  {
   "cell_type": "code",
   "execution_count": 19,
   "metadata": {},
   "outputs": [
    {
     "name": "stdout",
     "output_type": "stream",
     "text": [
      "Para u= 2 se tiene chi2= 406.1817224033057\n",
      "Para u= 3 se tiene chi2= 332.19469032689324\n",
      "Para u= 4 se tiene chi2= 192.21287848066595\n",
      "Para u= 5 se tiene chi2= 230.51519805646586\n",
      "Para u= 6 se tiene chi2= 3704.9660291240416\n",
      "Para u= 7 se tiene chi2= 4449.198518063098\n"
     ]
    }
   ],
   "source": [
    "chi_norm=[]\n",
    "for k in [0,1,2,3,4,5]:\n",
    "    w=chi_square(frec_norm[k][0], teo_bi2)\n",
    "    print('Para u=',k+2, 'se tiene chi2=', w)\n",
    "    chi_norm.append(w)"
   ]
  },
  {
   "cell_type": "markdown",
   "metadata": {},
   "source": [
    "En este caso se tiene: gl= 19-1=18 y $\\alpha$=0.05. Luego, $\\chi_{crit}^2$=28.869.\n",
    "\n",
    "Como todos los valores obtenidos son mayores al $\\chi_{crit}^2$, por lo tanto, se rechaza la hipótesis nula para todos los casos."
   ]
  },
  {
   "cell_type": "markdown",
   "metadata": {},
   "source": [
    "Valores-p para cada caso:"
   ]
  },
  {
   "cell_type": "code",
   "execution_count": 20,
   "metadata": {},
   "outputs": [
    {
     "name": "stdout",
     "output_type": "stream",
     "text": [
      "Para u= 2 se tiene valor-p= 0.0\n",
      "Para u= 3 se tiene valor-p= 0.0\n",
      "Para u= 4 se tiene valor-p= 0.0\n",
      "Para u= 5 se tiene valor-p= 0.0\n",
      "Para u= 6 se tiene valor-p= 0.0\n",
      "Para u= 7 se tiene valor-p= 0.0\n"
     ]
    }
   ],
   "source": [
    "for k in range(len(chi_norm)):\n",
    "    p=pvalue(chi_norm[k],18)\n",
    "    print('Para u=',k+2, 'se tiene valor-p=', p)"
   ]
  },
  {
   "cell_type": "markdown",
   "metadata": {},
   "source": [
    "Lo obtenido coincide con el rechazo de la hipótesis nula.\n",
    "\n",
    "Se puede ver que uno esperaría que la distribución binomial coincida con alguna distribución normal, sin embargo, no es lo que se obtiene al realizar la prueba de hipótesis con el estadístico $\\chi^2$."
   ]
  },
  {
   "cell_type": "markdown",
   "metadata": {},
   "source": [
    "\n"
   ]
  },
  {
   "cell_type": "markdown",
   "metadata": {},
   "source": [
    "## (f) Realizar lo mismo pero en lugar de sortear 100 randoms (como en (e)) hay que sortear 1000."
   ]
  },
  {
   "cell_type": "code",
   "execution_count": 21,
   "metadata": {},
   "outputs": [],
   "source": [
    "teo_bi3=teo_bi_rel2*1000 #1000 valores sorteados"
   ]
  },
  {
   "cell_type": "code",
   "execution_count": 22,
   "metadata": {},
   "outputs": [],
   "source": [
    "def empirica_normal2(u):\n",
    "    lista=[]\n",
    "    for i in range(1000): #veces que sorteo la variable\n",
    "        x=st.norm.rvs(loc=u, scale=2.5) #con 2.5 indico el sigma\n",
    "        lista.append(x) #las agrego en una lista\n",
    "    return lista"
   ]
  },
  {
   "cell_type": "code",
   "execution_count": 23,
   "metadata": {},
   "outputs": [
    {
     "data": {
      "image/png": "[encoded data removed]",
      "text/plain": [
       "<Figure size 1224x504 with 6 Axes>"
      ]
     },
     "metadata": {},
     "output_type": "display_data"
    }
   ],
   "source": [
    "frec_norm2=[]\n",
    "plt.figure(figsize=(17,7))\n",
    "\n",
    "for i in [1,2,3,4,5,6]:  #posición en el gráfico\n",
    "    plt.subplot(2,3,i)   #figura con 2 filas y 3 columnas\n",
    "    \n",
    "    #Grafico la binomial teorica\n",
    "    plt.bar(np.arange(-4,15,1), teo_bi3, width=1, color='green', alpha=0.5, label='Binomial')\n",
    "    \n",
    "    #Grafico las distintas normales, #quiero mu=2,3,4,5,6,7\n",
    "    f2=plt.hist(empirica_normal2(i+1), bins=np.arange(-4.5, 15.5, 1), histtype='step', ec='red', label='Normal: $\\mu$ = '+ str(i+1))\n",
    "    plt.legend(loc='best')\n",
    "    frec_norm2.append(f2) #agrego las frecuencias a una lista"
   ]
  },
  {
   "cell_type": "code",
   "execution_count": 24,
   "metadata": {},
   "outputs": [
    {
     "name": "stdout",
     "output_type": "stream",
     "text": [
      "Para u= 2 se tiene chi2= 2788.8148927955426\n",
      "Para u= 3 se tiene chi2= 1714.1204755327637\n",
      "Para u= 4 se tiene chi2= 1610.375874474727\n",
      "Para u= 5 se tiene chi2= 4445.918468135151\n",
      "Para u= 6 se tiene chi2= 20096.455543290584\n",
      "Para u= 7 se tiene chi2= 64658.34934002331\n"
     ]
    }
   ],
   "source": [
    "chi_norm2=[]\n",
    "for k in [0,1,2,3,4,5]:\n",
    "    ww=chi_square(frec_norm2[k][0], teo_bi3)\n",
    "    print('Para u=',k+2, 'se tiene chi2=', ww)\n",
    "    chi_norm2.append(ww)"
   ]
  },
  {
   "cell_type": "code",
   "execution_count": 25,
   "metadata": {},
   "outputs": [
    {
     "name": "stdout",
     "output_type": "stream",
     "text": [
      "Para u= 2 se tiene valor-p= 0.0\n",
      "Para u= 3 se tiene valor-p= 0.0\n",
      "Para u= 4 se tiene valor-p= 0.0\n",
      "Para u= 5 se tiene valor-p= 0.0\n",
      "Para u= 6 se tiene valor-p= 0.0\n",
      "Para u= 7 se tiene valor-p= 0.0\n"
     ]
    }
   ],
   "source": [
    "for k in range(len(chi_norm2)):\n",
    "    pp=pvalue(chi_norm2[k],18)\n",
    "    print('Para u=',k+2, 'se tiene valor-p=', pp)"
   ]
  },
  {
   "cell_type": "markdown",
   "metadata": {},
   "source": [
    "Al igual que en el inciso anterior, se rechaza la hipótesis nula."
   ]
  }
 ],
 "metadata": {
  "kernelspec": {
   "display_name": "Python 3",
   "language": "python",
   "name": "python3"
  },
  "language_info": {
   "codemirror_mode": {
    "name": "ipython",
    "version": 3
   },
   "file_extension": ".py",
   "mimetype": "text/x-python",
   "name": "python",
   "nbconvert_exporter": "python",
   "pygments_lexer": "ipython3",
   "version": "3.8.3"
  }
 },
 "nbformat": 4,
 "nbformat_minor": 4
}
