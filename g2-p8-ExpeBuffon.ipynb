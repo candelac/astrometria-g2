{
 "cells": [
  {
   "cell_type": "markdown",
   "metadata": {},
   "source": [
    "# Experimento del Buffon"
   ]
  },
  {
   "cell_type": "markdown",
   "metadata": {},
   "source": [
    "En este experimento se tiene una mesa con rayas paralelas y equiespaciadas, separadas por una distancia 't'. Se lanza una aguja de largo 'l' sobre la mesa, que cae en una ubicación aleatoria (uniforme) sobre ella, a una distancia 'X' de la raya más cercana (medida desde el centro de la aguja) y con una orientación también aleatoria '$\\theta$' dada por el ángulo agudo que forma la aguja con la dirección de las rayas paralelas de la mesa."
   ]
  },
  {
   "cell_type": "markdown",
   "metadata": {},
   "source": [
    "\n",
    "\n"
   ]
  },
  {
   "cell_type": "markdown",
   "metadata": {},
   "source": [
    "### (a) Escriba la función densidad de probabilidad de que la aguja caiga con parámetros $(x,\\theta)$"
   ]
  },
  {
   "cell_type": "markdown",
   "metadata": {},
   "source": [
    "Al caer en una ubicación aleatoria uniforme, se puede ver que la variable X cae con una distribución uniforme en $[0,\\frac{t}{2}]$, ya que no puede ser mayor a la mitad de la separación entre las rayas.\n",
    "\n",
    "Mientras que la variable $\\theta$, al estar definida por el ángulo agudo que forma la aguja, tiene una distribución uniforme en $[0,\\frac{\\pi}{2}]$"
   ]
  },
  {
   "cell_type": "markdown",
   "metadata": {},
   "source": [
    "Luego, las funciones densidades de probabilidad de cada variable son:\n",
    "$$f(x)=\\frac{2}{t}$$\n",
    "\n",
    "$$f(\\theta)=\\frac{2}{\\pi}$$\n"
   ]
  },
  {
   "cell_type": "markdown",
   "metadata": {},
   "source": [
    "Como son variables independientes, la función de probabilidad conjunta es:\n",
    "$$f(x,\\theta)=f(x).f(\\theta)=\\frac{4}{t\\pi}$$"
   ]
  },
  {
   "cell_type": "markdown",
   "metadata": {},
   "source": [
    "\n"
   ]
  },
  {
   "cell_type": "markdown",
   "metadata": {},
   "source": [
    "\n"
   ]
  },
  {
   "cell_type": "markdown",
   "metadata": {},
   "source": [
    "### (b) Suponga que $l< t$, ¿Cuál es la probabilidad de que la aguja toque una raya?"
   ]
  },
  {
   "cell_type": "markdown",
   "metadata": {},
   "source": [
    "Se quiere conocer cuál es la probabilidad de que la aguja toque una de las rayas, suponiendo que $l<t$.\n",
    "\n",
    "Para este inciso se supone que se tira la aguja y cae con el triángulo límite formado por el ángulo $\\theta^*, x$ y $\\frac{l}{2}$, tal que si $\\theta \\geq \\theta^*$, entonces la aguja toca una de las rayas, caso contrario no.\n",
    "\n",
    "Por trigonometría se tiene:\n",
    "\n",
    "$$sen(\\theta) \\geq sen(\\theta^*) = \\frac{2x}{l}$$"
   ]
  },
  {
   "cell_type": "markdown",
   "metadata": {},
   "source": [
    "Entonces, se obtiene la siguiente relación entre las variables, la cual si se cumple indica que la aguja toca una raya de la mesa.\n",
    "\n",
    "$$x\\leq \\frac{l.sen(\\theta)}{2}$$ (Ec 1)\n"
   ]
  },
  {
   "cell_type": "markdown",
   "metadata": {},
   "source": [
    "Se quiere encontrar la probabilidad con la que la variable aleatoria $x$ sea igual o menor a la relación dada por la Ec 1., esto se cuantifica con la función de distribución de probabilidades acumuladas para $x\\leq \\frac{l.sen(\\theta)}{2}$.\n",
    "\n",
    "Luego, se debe resolver:\n",
    "\n",
    "$$F(X\\leq \\frac{l.sen(\\theta)}{2})= \\int \\int f(x,\\theta) dx d\\theta $$\n",
    "\n",
    "donde $f(x,\\theta)$ es la que se vió en el inciso (a) y se tiene en cuenta de integrar primero x entre 0 y $\\frac{l.sen(\\theta)}{2}$, y luego $\\theta$ entre 0 y $\\frac{\\pi}{2}$."
   ]
  },
  {
   "cell_type": "markdown",
   "metadata": {},
   "source": [
    "Así se obtiene:\n",
    "\n",
    "$$F(x\\leq \\frac{l.sen(\\theta)}{2})= \\frac{2l}{t\\pi}$$ (Ec. 2)"
   ]
  },
  {
   "cell_type": "markdown",
   "metadata": {},
   "source": [
    "\n"
   ]
  },
  {
   "cell_type": "markdown",
   "metadata": {},
   "source": [
    "\n"
   ]
  },
  {
   "cell_type": "markdown",
   "metadata": {},
   "source": [
    "### (c) Estimar el número $\\pi$."
   ]
  },
  {
   "cell_type": "markdown",
   "metadata": {},
   "source": [
    "La idea es realizar un programa que simule arrojar una aguja y determinar si cruza alguna de las rayas paralelas.\n",
    "Luego se utiliza la probabilidad clásica para estimar $\\pi$ a partir de muchas realizaciones del experimento. Cualquier simulación que se base en un muestreo aleatorio para obtener resultados, como este procedimiento se incluye en la categoría de los métodos de Monte Carlo.\n",
    "\n",
    "Primero se comienza definiendo la función 'buffon' que lanza 'n' veces la aguja y usando la condición dada por Ec 1, cuenta el número de veces que la aguja toca una raya."
   ]
  },
  {
   "cell_type": "markdown",
   "metadata": {},
   "source": [
    "Dado que si se lanzan n veces la aguja y $n_0$ veces toca una raya, se tiene que la probabilidad de que la aguja toque una raya es:\n",
    "\n",
    "$$P=\\frac{n_0}{n}$$ (Ec. 3)\n",
    "\n",
    "Luego, igualando las dos probabilidades obtenidas (Ec 2 y 3) se tiene que:\n",
    "\n",
    "$$\\pi=\\frac{2.l. n}{t. n_0}$$"
   ]
  },
  {
   "cell_type": "code",
   "execution_count": 1,
   "metadata": {},
   "outputs": [],
   "source": [
    "from math import *\n",
    "import random"
   ]
  },
  {
   "cell_type": "code",
   "execution_count": 2,
   "metadata": {},
   "outputs": [],
   "source": [
    "#Función que calcula el número de veces que toca una raya\n",
    "def buffon(t, l, n):         #defino funcion\n",
    "    n0=0\n",
    "    for i in range(n):             #recorro las veces que tiro la aguja\n",
    "        x=random.random()*t/2      #defino distrib de x\n",
    "        tita=random.random()*pi/2  #defino distrib de tita\n",
    "        x0=sin(tita)*l/2           #seguido de la ec 1\n",
    "        if x<=x0:                  #x que me interesa\n",
    "            n0=n0+1                #sumo cada vez que la aguja toca la raya\n",
    "        else:\n",
    "            None\n",
    "    valor_pi=(2*l*n)/(t*n0)\n",
    "    return t, l, n, n0, valor_pi"
   ]
  },
  {
   "cell_type": "markdown",
   "metadata": {},
   "source": [
    "Para comprobar si se obtienen valores similares a $\\pi$ se le dan distintos valores a t, l y n:"
   ]
  },
  {
   "cell_type": "code",
   "execution_count": 3,
   "metadata": {},
   "outputs": [
    {
     "name": "stdout",
     "output_type": "stream",
     "text": [
      "Valor real de pi : 3.141592653589793\n"
     ]
    }
   ],
   "source": [
    "print('Valor real de pi :', pi)"
   ]
  },
  {
   "cell_type": "code",
   "execution_count": 5,
   "metadata": {},
   "outputs": [
    {
     "name": "stdout",
     "output_type": "stream",
     "text": [
      "Valor de pi obtenido con: t= 1 , l= 0.5 , n= 100 , n0= 23 ----> pi= 4.3478260869565215\n",
      "Valor de pi obtenido con: t= 1 , l= 0.5 , n= 1000 , n0= 309 ----> pi= 3.236245954692557\n"
     ]
    }
   ],
   "source": [
    "t1, l1, n1, n01, v_pi1 = buffon(t=1, l=1/2, n=100)\n",
    "print('Valor de pi obtenido con: t=', t1, ', l=', l1, ', n=', n1, ', n0=', n01, '----> pi=' ,v_pi1 )\n",
    "t2, l2, n2, n02, v_pi2 = buffon(t=1, l=1/2, n=1000)\n",
    "print('Valor de pi obtenido con: t=', t2, ', l=', l2, ', n=', n2, ', n0=', n02, '----> pi=' ,v_pi2 )"
   ]
  },
  {
   "cell_type": "code",
   "execution_count": 6,
   "metadata": {},
   "outputs": [
    {
     "name": "stdout",
     "output_type": "stream",
     "text": [
      "Valor de pi obtenido con: t= 1 , l= 0.3333333333333333 , n= 100 , n0= 18 ----> pi= 3.7037037037037033\n",
      "Valor de pi obtenido con: t= 1 , l= 0.3333333333333333 , n= 1000 , n0= 212 ----> pi= 3.144654088050314\n"
     ]
    }
   ],
   "source": [
    "t3, l3, n3, n03, v_pi3 = buffon(t=1, l=1/3, n=100)\n",
    "print('Valor de pi obtenido con: t=', t3, ', l=', l3, ', n=', n3, ', n0=', n03, '----> pi=' ,v_pi3 )\n",
    "t4, l4, n4, n04, v_pi4 = buffon(t=1, l=1/3, n=1000)\n",
    "print('Valor de pi obtenido con: t=', t4, ', l=', l4, ', n=', n4, ', n0=', n04, '----> pi=' ,v_pi4 )"
   ]
  },
  {
   "cell_type": "code",
   "execution_count": 7,
   "metadata": {},
   "outputs": [
    {
     "name": "stdout",
     "output_type": "stream",
     "text": [
      "Valor de pi obtenido con: t= 1 , l= 0.75 , n= 100 , n0= 49 ----> pi= 3.061224489795918\n",
      "Valor de pi obtenido con: t= 1 , l= 0.75 , n= 1000 , n0= 474 ----> pi= 3.1645569620253164\n"
     ]
    }
   ],
   "source": [
    "t5, l5, n5, n05, v_pi5 = buffon(t=1, l=3/4, n=100)\n",
    "print('Valor de pi obtenido con: t=', t5, ', l=', l5, ', n=', n5, ', n0=', n05, '----> pi=' ,v_pi5 )\n",
    "t6, l6, n6, n06, v_pi6 = buffon(t=1, l=3/4, n=1000)\n",
    "print('Valor de pi obtenido con: t=', t6, ', l=', l6, ', n=', n6, ', n0=', n06, '----> pi=' ,v_pi6 )"
   ]
  },
  {
   "cell_type": "markdown",
   "metadata": {},
   "source": [
    "\n"
   ]
  },
  {
   "cell_type": "markdown",
   "metadata": {},
   "source": [
    "Se puede ver como los valores que se obtienen van variando independientemente del valor asignado a l, t y n. En todos los casos se obtienen valores similares al valor real de pi, menos para el vaso en que t=1, l=1/2 y n=100, el valor obtenido se aleja del valor esperado de $\\pi$."
   ]
  },
  {
   "cell_type": "markdown",
   "metadata": {},
   "source": [
    "\n"
   ]
  },
  {
   "cell_type": "markdown",
   "metadata": {},
   "source": [
    "## Conclusiones\n",
    "\n",
    "Por medio del problema de la \"aguja de Buffon\" se logra determinar un valor aproximado de $\\pi$, realizando un programa que simule tal experimento repetidas veces y cuente el número de veces que la aguja toca una raya.\n",
    "Con los valores probados, no se determina que exista una configuración óptima para la relación entre la separación entre rayas (t) y el largo de la aguja (l). La cantidad de veces que se tira la aguja (n) no muestra grandes cambios cuando se lanzan con $n>100$, menos para el caso t=1, l=1/2 en donde el valor se aleja más que el resto..\n"
   ]
  }
 ],
 "metadata": {
  "kernelspec": {
   "display_name": "Python 3",
   "language": "python",
   "name": "python3"
  },
  "language_info": {
   "codemirror_mode": {
    "name": "ipython",
    "version": 3
   },
   "file_extension": ".py",
   "mimetype": "text/x-python",
   "name": "python",
   "nbconvert_exporter": "python",
   "pygments_lexer": "ipython3",
   "version": "3.8.3"
  }
 },
 "nbformat": 4,
 "nbformat_minor": 4
}
